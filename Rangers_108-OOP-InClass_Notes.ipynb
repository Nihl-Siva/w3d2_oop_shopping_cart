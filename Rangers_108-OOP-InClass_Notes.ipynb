{
 "cells": [
  {
   "cell_type": "markdown",
   "metadata": {},
   "source": [
    "# Object-Oriented-Programming (OOP)"
   ]
  },
  {
   "cell_type": "markdown",
   "metadata": {},
   "source": [
    "## Tasks Today:\n",
    "\n",
    "   \n",
    "\n",
    "1) <b>Creating a Class (Initializing/Declaring)</b> <br>\n",
    "2) <b>Using a Class (Instantiating)</b> <br>\n",
    " &nbsp;&nbsp;&nbsp;&nbsp; a) Creating One Instance <br>\n",
    " &nbsp;&nbsp;&nbsp;&nbsp; b) Creating Multiple Instances <br>\n",
    " &nbsp;&nbsp;&nbsp;&nbsp; c) In-Class Exercise #1 - Create a Class 'Car' and instantiate three different makes of cars <br>\n",
    "3) <b>The \\__init\\__() Method</b> <br>\n",
    " &nbsp;&nbsp;&nbsp;&nbsp; a) The 'self' Attribute <br>\n",
    "4) <b>Class Attributes</b> <br>\n",
    " &nbsp;&nbsp;&nbsp;&nbsp; a) Initializing Attributes <br>\n",
    " &nbsp;&nbsp;&nbsp;&nbsp; b) Setting an Attribute Outside of the \\__init\\__() Method <br>\n",
    " &nbsp;&nbsp;&nbsp;&nbsp; c) Setting Defaults for Attributes <br>\n",
    " &nbsp;&nbsp;&nbsp;&nbsp; d) Accessing Class Attributes <br>\n",
    " &nbsp;&nbsp;&nbsp;&nbsp; e) Changing Class Attributes <br>\n",
    " &nbsp;&nbsp;&nbsp;&nbsp; f) In-Class Exercise #2 - Add a color and wheels attribute to your 'Car' class <br>\n",
    "5) <b>Class Methods</b> <br>\n",
    " &nbsp;&nbsp;&nbsp;&nbsp; a) Creating <br>\n",
    " &nbsp;&nbsp;&nbsp;&nbsp; b) Calling <br>\n",
    " &nbsp;&nbsp;&nbsp;&nbsp; c) Modifying an Attribute's Value Through a Method <br>\n",
    " &nbsp;&nbsp;&nbsp;&nbsp; d) Incrementing an Attribute's Value Through a Method <br>\n",
    " &nbsp;&nbsp;&nbsp;&nbsp; e) In-Class Exercise #3 - Add a method that prints the cars color and wheel number, then call them <br>\n",
    "6) <b>Inheritance</b> <br>\n",
    " &nbsp;&nbsp;&nbsp;&nbsp; a) Syntax for Inheriting from a Parent Class <br>\n",
    " &nbsp;&nbsp;&nbsp;&nbsp; b) The \\__init\\__() Method for a Child Class (super()) <br>\n",
    " &nbsp;&nbsp;&nbsp;&nbsp; c) Defining Attributes and Methods for the Child Class <br>\n",
    " &nbsp;&nbsp;&nbsp;&nbsp; d) Method Overriding <br>\n",
    " &nbsp;&nbsp;&nbsp;&nbsp; e) In-Class Exercise #4 - Create a class 'Ford' that inherits from 'Car' class and initialize it as a Blue Ford Explorer with 4 wheels using the super() method <br>\n",
    "7) <b>Classes as Attributes</b> <br>\n",
    "8) <b>Exercises</b> <br>\n",
    " &nbsp;&nbsp;&nbsp;&nbsp; a) Exercise #1 - Turn the shopping cart program from last week into an object-oriented program <br>"
   ]
  },
  {
   "cell_type": "markdown",
   "metadata": {},
   "source": [
    "## Creating a Class (Initializing/Declaring)\n",
    "<p>When creating a class, function, or even a variable you are initializing that object. Initializing and Declaring occur at the same time in Python, whereas in lower level languages you have to declare an object before initializing it. This is the first step in the process of using a class.</p>"
   ]
  },
  {
   "cell_type": "code",
   "execution_count": null,
   "metadata": {},
   "outputs": [],
   "source": [
    "# () aren't needed, but fine. class name should always be capitalized.\n",
    "class Car():\n",
    "    wheels = 4\n",
    "    color = 'blue'"
   ]
  },
  {
   "cell_type": "markdown",
   "metadata": {},
   "source": [
    "## Using a Class (Instantiating)\n",
    "<p>The process of creating a class is called <i>Instantiating</i>. Each time you create a variable of that type of class, it is referred to as an <i>Instance</i> of that class. This is the second step in the process of using a class.</p>"
   ]
  },
  {
   "cell_type": "markdown",
   "metadata": {},
   "source": [
    "##### Creating One Instance"
   ]
  },
  {
   "cell_type": "code",
   "execution_count": null,
   "metadata": {},
   "outputs": [],
   "source": [
    "ford = Car()\n",
    "print(ford.wheels)\n",
    "print(ford.color)"
   ]
  },
  {
   "cell_type": "markdown",
   "metadata": {},
   "source": [
    "##### Creating Multiple Instances"
   ]
  },
  {
   "cell_type": "code",
   "execution_count": null,
   "metadata": {},
   "outputs": [],
   "source": [
    "mazda = Car()\n",
    "honda = Car()\n",
    "mclaren =Car()\n",
    "\n",
    "print(mazda.color)\n",
    "print(mclaren.wheels)"
   ]
  },
  {
   "cell_type": "markdown",
   "metadata": {},
   "source": [
    "##### In-Class Exercise #1 - Create a Class 'Car' and Instantiate three different makes of cars"
   ]
  },
  {
   "cell_type": "code",
   "execution_count": null,
   "metadata": {},
   "outputs": [],
   "source": [
    "class Car():\n",
    "    def __init__(self, model, year, fuel):\n",
    "        self.model = model\n",
    "        self.year = year\n",
    "        self.fuel = fuel\n",
    "        \n",
    "toyota = Car(\"prius\", 2023, \"hybrid\")\n",
    "nissan = Car(\"altima\", 2012, \"gasoline\")\n",
    "bmw = Car(\"m3\", 1990, \"gasoline\")\n",
    "\n",
    "print(toyota.__dict__)\n",
    "print(nissan.__dict__)\n",
    "print(bmw.__dict__)"
   ]
  },
  {
   "cell_type": "markdown",
   "metadata": {},
   "source": [
    "## The \\__init\\__() Method <br>\n",
    "<p>This method is used in almost every created class, and called only once upon the creation of the class instance. This method will initialize all variables needed for the object.</p>"
   ]
  },
  {
   "cell_type": "code",
   "execution_count": null,
   "metadata": {},
   "outputs": [],
   "source": [
    "class Car():\n",
    "    def __init__(self, wheels, color, doors):\n",
    "        self.wheels = wheels\n",
    "        self.color = color\n",
    "        self.doors = doors\n",
    "mazda = Car(4, \"Blue\", 4)\n",
    "mclaren = Car(4, \"Red\", 2)\n",
    "honda = Car(4, \"Green\", 4)\n",
    "ford = Car(6, \"Silver\", 4)\n",
    "print(mazda.color)\n",
    "print(mclaren.color)\n",
    "print(honda.color)\n",
    "print(ford.color)\n",
    "\n",
    "print(mazda.__dict__)"
   ]
  },
  {
   "cell_type": "markdown",
   "metadata": {},
   "source": [
    "##### The 'self' Attribute <br>\n",
    "<p>This attribute is required to keep track of specific instance's attributes. Without the self attribute, the program would not know how to reference or keep track of an instance's attributes.</p>"
   ]
  },
  {
   "cell_type": "code",
   "execution_count": null,
   "metadata": {},
   "outputs": [],
   "source": [
    "# see above\n",
    "class Pokemon():\n",
    "    def __init__(self, name, type_):        \n",
    "        self.name = name #self holds the place of the object we instantiate\n",
    "        self.type_ = type_\n",
    "        print(f\"self is refrencing the object {self}, {self.name}\")\n",
    "        print(self.type_)\n",
    "        \n",
    "charmander = Pokemon(\"Charmander\", \"fire\")\n",
    "squirtle = Pokemon(\"Squirtle\", \"water\")"
   ]
  },
  {
   "cell_type": "markdown",
   "metadata": {},
   "source": [
    "## Class Attributes <br>\n",
    "<p>While variables are inside of a class, they are referred to as attributes and not variables. When someone says 'attribute' you know they're speaking about a class. Attributes can be initialized through the init method, or outside of it.</p>"
   ]
  },
  {
   "cell_type": "markdown",
   "metadata": {},
   "source": [
    "##### Initializing Attributes"
   ]
  },
  {
   "cell_type": "code",
   "execution_count": null,
   "metadata": {},
   "outputs": [],
   "source": [
    "bulbasaur = Pokemon(\"Bulbasaur\", \"grass\")\n"
   ]
  },
  {
   "cell_type": "markdown",
   "metadata": {},
   "source": [
    "##### Accessing Class Attributes"
   ]
  },
  {
   "cell_type": "code",
   "execution_count": null,
   "metadata": {
    "scrolled": true
   },
   "outputs": [],
   "source": [
    "print(bulbasaur.name)\n",
    "print(bulbasaur.type_)\n",
    "print(bulbasaur.__dict__)"
   ]
  },
  {
   "cell_type": "markdown",
   "metadata": {},
   "source": [
    "##### Setting Defaults for Attributes"
   ]
  },
  {
   "cell_type": "code",
   "execution_count": null,
   "metadata": {
    "scrolled": true
   },
   "outputs": [],
   "source": [
    "class Car():\n",
    "    def __init__(self, wheels):\n",
    "        self.wheels = wheels\n",
    "        self.color = \"Blue\"\n",
    "        \n",
    "honda = Car(4)\n",
    "print(honda.color)\n",
    "print(honda.wheels)"
   ]
  },
  {
   "cell_type": "code",
   "execution_count": null,
   "metadata": {},
   "outputs": [],
   "source": [
    "class Car():\n",
    "    def __init__(self, wheels, color = 'Red'):\n",
    "        self.wheels = wheels\n",
    "        self.color = color\n",
    "    \n",
    "ford = Car(4)\n",
    "print(ford.wheels)\n",
    "print(ford.color)\n",
    "\n",
    "mazda = Car(4, \"blue\")\n",
    "print(mazda.color)"
   ]
  },
  {
   "cell_type": "markdown",
   "metadata": {},
   "source": [
    "##### Changing Class Attributes <br>\n",
    "<p>Keep in mind there are global class attributes and then there are attributes only available to each class instance which won't effect other classes.</p>"
   ]
  },
  {
   "cell_type": "code",
   "execution_count": null,
   "metadata": {},
   "outputs": [],
   "source": [
    "class Car():\n",
    "    def __init__(self, wheels):\n",
    "        self.wheels = wheels\n",
    "        self.color = \"Blue\"\n",
    "        \n",
    "honda = Car(4)\n",
    "# print(honda.color)\n",
    "print(honda.wheels)\n",
    "mazda = Car(4)\n",
    "#change our default attribute\n",
    "print(f\"before attribute change {honda.color}\")\n",
    "honda.color = \"Red\"\n",
    "print(f\"after attribute change {honda.color}\")\n",
    "\n",
    "color= \"Blue\"\n",
    "print(f\"before variable change {color}\")\n",
    "color = \"red\"\n",
    "print(f\"after variable change {honda.color}\")"
   ]
  },
  {
   "cell_type": "code",
   "execution_count": null,
   "metadata": {},
   "outputs": [],
   "source": []
  },
  {
   "cell_type": "markdown",
   "metadata": {},
   "source": [
    "##### In-Class Exercise #2 - Add 2 new attributes to your 'Car Add a doors and seats attribute to your 'Car' class then print out two different instances with different doors and seats"
   ]
  },
  {
   "cell_type": "code",
   "execution_count": null,
   "metadata": {},
   "outputs": [],
   "source": [
    "class Car():\n",
    "    def __init__(self, model, year, fuel, doors, seats):\n",
    "        self.model = model\n",
    "        self.year = year\n",
    "        self.fuel = fuel\n",
    "        self.doors = doors\n",
    "        self.seats = seats\n",
    "        \n",
    "toyota = Car(\"prius\", 2023, \"hybrid\", 4, 5)\n",
    "nissan = Car(\"altima\", 2012, \"gasoline\", 2, 4)\n",
    "bmw = Car(\"m3\", 1990, \"gasoline\", 2, 2)\n",
    "\n",
    "# print(toyota.__dict__)\n",
    "# print(nissan.__dict__)\n",
    "# print(bmw.__dict__)\n",
    "print(toyota.doors)\n",
    "toyota.doors=5\n",
    "print(toyota.doors)\n"
   ]
  },
  {
   "cell_type": "markdown",
   "metadata": {},
   "source": [
    "## Class Methods <br>\n",
    "<p>While inside of a class, functions are referred to as 'methods'. If you hear someone mention methods, they're speaking about classes. Methods are essentially functions, but only callable on the instances of a class.</p>"
   ]
  },
  {
   "cell_type": "markdown",
   "metadata": {},
   "source": [
    "##### Creating"
   ]
  },
  {
   "cell_type": "code",
   "execution_count": null,
   "metadata": {},
   "outputs": [],
   "source": [
    "class Bus():\n",
    "    \"\"\"\n",
    "    The bus will have doors, seats available, color and a bus driver\n",
    "    \n",
    "    Attributes for the bus:\n",
    "    -doors: integer\n",
    "    -seats: integer\n",
    "    -seats_available: integer\n",
    "    -color: string\n",
    "    -bus_driver: string\n",
    "    \"\"\"\n",
    "    \n",
    "    def __init__(self, doors, seats, seats_available, color, bus_driver):\n",
    "        self.doors = doors\n",
    "        self.seats = seats\n",
    "        self.seats_available = seats_available\n",
    "        self.color = color\n",
    "        self.bus_driver = bus_driver\n",
    "        \n",
    "    #decrement the number of seats available\n",
    "    def load_passengers(self):\n",
    "        if self.seats_available <= 0:\n",
    "            print(\"This bus is full!\")\n",
    "            if selfs.seats_available < 0:\n",
    "                print(f\"You left {abs(self.seats_available)}by the road\")\n",
    "                self.seats_available = 0\n",
    "        else:\n",
    "            passengers = int(input(\"How many passengers are getting on? \"))\n",
    "            self.seats_available -= passengers\n",
    "            print(f\"{passengers} passengers have boarded. There are {self.seats_available} left on the bus.\")\n",
    "    \n",
    "    #increment the number of seats available\n",
    "    def unload_passengers(self):\n",
    "        if self.seats_available >= self.seats:\n",
    "            print(\"There is no one on the bus to unload.\")\n",
    "        else:\n",
    "            unload = int(input(\"How many passengers are getting off the bus?\"))\n",
    "            self.seats_available += unload\n",
    "            if self.seats_available >= self.seats:\n",
    "                self.seats_available = self.seats\n",
    "\n",
    "            print(f\"{unload} passengers have left the bus. There are {self.seats_available} seats left on the bus.\")            \n",
    "    #change the bus_drver attribute\n",
    "    def change_driver(self):\n",
    "        change = input(\"Who is replacing you? \")\n",
    "        self.bus_driver = change\n",
    "        print(f\"The new driver is {self.bus_driver}.\")\n",
    "        \n",
    "    #display available seats\n",
    "    def check_seats(self):\n",
    "        print(f\"There are {self.seats_available} seats available.\")\n",
    "    \n",
    "    #display bus color\n",
    "    def admire_bus(self):\n",
    "        print(f\"Yep. That's a {self.color} bus alrght.\")\n",
    "        \n"
   ]
  },
  {
   "cell_type": "markdown",
   "metadata": {},
   "source": [
    "##### Calling"
   ]
  },
  {
   "cell_type": "code",
   "execution_count": null,
   "metadata": {},
   "outputs": [],
   "source": [
    "def run():\n",
    "    while True:\n",
    "        ryan_bus = Bus(2, 90, 45, \"yellow\", \"Ryan\")        \n",
    "        response = input(\"What would you like to do? Load/Unload/Change Driver/Check Seats/Admire/Quit \")\n",
    "        if response.lower() == \"quit\":\n",
    "            print(\"Wait! There's more passengers!\")\n",
    "            break\n",
    "        elif response.lower() == \"load\":\n",
    "            ryan_bus.load_passengers()\n",
    "        elif response.lower() == \"unload\":\n",
    "            ryan_bus.unload_passengers()\n",
    "        elif response.lower() == \"change driver\":\n",
    "            ryan_bus.change_driver()\n",
    "        elif response.lower() == \"check seats\":\n",
    "            ryan_bus.check_seats()\n",
    "        elif response.lower() == 'admire':\n",
    "            ryan_bus.admire_bus()\n",
    "        else:\n",
    "            print(\"Invalid Response\")\n",
    "            \n",
    "run()"
   ]
  },
  {
   "cell_type": "markdown",
   "metadata": {},
   "source": [
    "##### Modifying an Attribute's Value Through a Method"
   ]
  },
  {
   "cell_type": "code",
   "execution_count": null,
   "metadata": {},
   "outputs": [],
   "source": [
    "# see above\n",
    "# load_passengers()\n",
    "# unload_passegers()\n",
    "# change_driver()"
   ]
  },
  {
   "cell_type": "markdown",
   "metadata": {},
   "source": [
    "##### Incrementing an Attribute's Value Through a Method"
   ]
  },
  {
   "cell_type": "code",
   "execution_count": null,
   "metadata": {},
   "outputs": [],
   "source": [
    "# see above\n",
    "# unload passgengers"
   ]
  },
  {
   "cell_type": "markdown",
   "metadata": {},
   "source": [
    "##### In-Class Exercise #3 - Add a method that takes in three parameters of year, doors and seats and prints out a formatted print statement with make, model, year, seats, and doors"
   ]
  },
  {
   "cell_type": "code",
   "execution_count": null,
   "metadata": {},
   "outputs": [],
   "source": [
    "# Create class with 2 paramters inside of the __init__ which are make and model\n",
    "\n",
    "# Create a method that alters an attribute for your class\n",
    "\n",
    "# Display method that prints information about the vehicle\n",
    "\n",
    "# Output: This car is from 2019 and is a Ford Expolorer and has 4 doors and 5 seats\n",
    "\n",
    "#reminder in order to call class methods instance.method()\n",
    "\n",
    "class Car():\n",
    "    def __init__(self, make, model):\n",
    "        self.make = make\n",
    "        self.model = model\n",
    "        self.year = 2023\n",
    "        self.door = 2\n",
    "        self.seats = 2\n",
    "        \n",
    "    def change_info(self, year, door, seats):\n",
    "        self.year = year\n",
    "        self.door = door\n",
    "        self.seats = seats   \n",
    "    \n",
    "    def display_info(self):\n",
    "        print(f\"This car is from {self.year} and is a {self.make} {self.model} and has {self.door} doors and {self.seats} seats\")\n",
    "        \n",
    "        \n",
    "my_car = Car(\"Ford\", \"Expolorer\")\n",
    "my_car.change_info(2019, 4 ,5)\n",
    "my_car.display_info()\n"
   ]
  },
  {
   "cell_type": "markdown",
   "metadata": {},
   "source": [
    "## Inheritance <br>\n",
    "<p>You can create a child-parent relationship between two classes by using inheritance. What this allows you to do is have overriding methods, but also inherit traits from the parent class. Think of it as an actual parent and child, the child will inherit the parent's genes, as will the classes in OOP</p>"
   ]
  },
  {
   "cell_type": "markdown",
   "metadata": {},
   "source": [
    "##### Syntax for Inheriting from a Parent Class"
   ]
  },
  {
   "cell_type": "code",
   "execution_count": null,
   "metadata": {},
   "outputs": [],
   "source": [
    "#creation of parent class\n",
    "class Animal():\n",
    "    ACCELERATION = 9.8\n",
    "    def __init__(self, name, species, legs = 4):\n",
    "        self.name = name\n",
    "        self.species = species\n",
    "        self.legs = legs\n",
    "        \n",
    "    #generic parent method\n",
    "    def make_sounds(self):\n",
    "        print(\"REEEEEEEEEE\")\n",
    "        \n",
    "#creation of child class\n",
    "class Dog(Animal):\n",
    "    SPEED = 15\n",
    "    \n",
    "    def print_info(self):\n",
    "        print(f\"{self.name} runs at {self.SPEED} mph and accelerates at {self.ACCELERATION} mph.\")\n",
    "\n",
    "#creation of grandchild class        \n",
    "class Mutt(Dog):\n",
    "    COLOR = \"light brownish\"\n",
    "    \n",
    "    #access the animal init class through the dog class\n",
    "    def __init__(self, name, species, eye_color, legs = 4):\n",
    "        Dog.__init__(self, name, species, legs)\n",
    "        self.eye_color = eye_color\n",
    "        \n",
    "    #override the make_sound method\n",
    "    def make_sound(self):\n",
    "        print(\"YYYEEEEOOOOWWWNN\")"
   ]
  },
  {
   "cell_type": "code",
   "execution_count": null,
   "metadata": {
    "scrolled": false
   },
   "outputs": [],
   "source": [
    "#instantiating and access tp the parent class\n",
    "elephant = Animal('Greg', 'elephant')\n",
    "print(elephant.ACCELERATION)\n",
    "print(elephant.name)\n",
    "elephant.make_sounds()"
   ]
  },
  {
   "cell_type": "code",
   "execution_count": null,
   "metadata": {},
   "outputs": [],
   "source": [
    "#instantiating and accessing the child class with parent attributes\n",
    "maltese = Dog(\"Precious\", \"Maltese\")\n",
    "maltese.print_info()\n",
    "print(maltese.SPEED)\n",
    "print(maltese.legs)"
   ]
  },
  {
   "cell_type": "code",
   "execution_count": null,
   "metadata": {},
   "outputs": [],
   "source": [
    "kiwi = Mutt(\"Kiwi\", \"Dog\", \"brown\")\n",
    "kiwi.make_sounds()\n",
    "kiwi.print_info()\n",
    "print(kiwi.eye_color)\n",
    "kiwi.COLOR = \"brown\" #USUALLY A NO-NO!\n",
    "\n",
    "print(kiwi.COLOR)"
   ]
  },
  {
   "cell_type": "markdown",
   "metadata": {},
   "source": [
    "##### The \\__init\\__() Method for a Child Class - super()"
   ]
  },
  {
   "cell_type": "code",
   "execution_count": null,
   "metadata": {
    "scrolled": false
   },
   "outputs": [],
   "source": [
    "class Mutt(Dog):\n",
    "    COLOR = \"light brownish\"\n",
    "    \n",
    "    #access the animal init class through the dog class\n",
    "    def __init__(self, name, species, eye_color, legs = 4):\n",
    "        super().__init__(name, species, legs)\n",
    "        self.eye_color = eye_color\n",
    "        \n",
    "    #override the make_sound method\n",
    "    def make_sound(self):\n",
    "        print(\"YYYEEEEOOOOWWWNN\")\n",
    "        \n",
    "        \n",
    "eyo = Mutt(\"Eyo\", \"dog\", \"brown\")\n",
    "eyo.print_info()\n",
    "print(eyo.ACCELERATION)"
   ]
  },
  {
   "cell_type": "markdown",
   "metadata": {},
   "source": [
    "##### Defining Attributes and Methods for the Child Class"
   ]
  },
  {
   "cell_type": "code",
   "execution_count": null,
   "metadata": {},
   "outputs": [],
   "source": [
    "# See Above"
   ]
  },
  {
   "cell_type": "markdown",
   "metadata": {},
   "source": [
    "##### Method Overriding"
   ]
  },
  {
   "cell_type": "code",
   "execution_count": null,
   "metadata": {},
   "outputs": [],
   "source": [
    "# See Above"
   ]
  },
  {
   "cell_type": "markdown",
   "metadata": {},
   "source": [
    "## Classes as Attributes <br>\n",
    "<p>Classes can also be used as attributes within another class. This is useful in situations where you need to keep variables locally stored, instead of globally stored.</p>"
   ]
  },
  {
   "cell_type": "code",
   "execution_count": null,
   "metadata": {},
   "outputs": [],
   "source": [
    "class Battery():\n",
    "    VOLTZ = 7.8\n",
    "    \n",
    "    def __init__(self, cells):\n",
    "        self.cells = cells\n",
    "        \n",
    "class Car():\n",
    "    def __init__(self, year, make, model, battery):\n",
    "        self.year = year\n",
    "        self.make = make\n",
    "        self.model = model\n",
    "        self.battery = battery\n",
    "    \n",
    "    def print_info(self):\n",
    "        print(f\"{self.year} {self.make} {self.model} {self.battery.cells}\")\n",
    "        \n",
    "battery = Battery(20)\n",
    "\n",
    "tesla = Car(2022, \"Tesla\", \"Model Y\", battery)\n",
    "\n",
    "print(tesla.battery.__dict__)\n",
    "print(tesla.battery.cells)\n",
    "\n",
    "tesla.print_info()"
   ]
  },
  {
   "cell_type": "markdown",
   "metadata": {},
   "source": [
    "# Exercises"
   ]
  },
  {
   "cell_type": "markdown",
   "metadata": {},
   "source": [
    "### Exercise 1 - Turn the shopping cart program from yesterday into an object-oriented program\n",
    "\n",
    "The comments in the cell below are there as a guide for thinking about the problem. However, if you feel a different way is best for you and your own thought process, please do what feels best for you by all means."
   ]
  },
  {
   "cell_type": "code",
   "execution_count": null,
   "metadata": {},
   "outputs": [],
   "source": [
    "from IPython.display import clear_output\n",
    "\n",
    "\n",
    "class Cart():\n",
    "    def __init__(self):\n",
    "        self.item = {}\n",
    "        \n",
    "    def add(self):\n",
    "        clear_output()\n",
    "        new_item = input(\"What would you like to add to the cart? \").lower()\n",
    "        qty = int(input(f\"How many {new_item} do you want to add to the cart? \"))\n",
    "        if qty <= 0:\n",
    "            print(\"Invalid quantity.\")\n",
    "        else:    \n",
    "            if new_item not in self.item: \n",
    "                self.item[new_item] = qty\n",
    "            else:\n",
    "                self.item[new_item] += qty\n",
    "            print(f\"You added {qty} {new_item} to the cart.\")\n",
    "\n",
    "\n",
    "    def show(self):\n",
    "        clear_output()\n",
    "        print(\"Your current shopping cart:\")\n",
    "        for i, q in self.item.items():\n",
    "            print(f\"[{q}] {i.title()}\")\n",
    "        \n",
    "    def remove(self):\n",
    "        self.show()\n",
    "        yoink = input(f\"What would you like to remove from the cart? \").lower()\n",
    "        if self.item[yoink] != 0:    \n",
    "            del self.item[yoink]\n",
    "            print(f\"{yoink.title()} removed from cart. \")\n",
    "        else:\n",
    "            print(f\"We couldn't find '{yoink}' in your cart. Please check your spelling and try again.\")\n",
    "class Main():\n",
    "    def run():\n",
    "        my_cart = Cart()\n",
    "        while True:\n",
    "            entry = input(\"What would you like to do? - [ADD][REMOVE][SHOW][QUIT]\").lower()\n",
    "            if entry == \"quit\":\n",
    "                print(\"Thank you! Have a nice day!\")\n",
    "                break\n",
    "            elif entry == \"add\":\n",
    "                my_cart.add()\n",
    "            elif entry == \"remove\":\n",
    "                if my_cart.item != {}:\n",
    "                    my_cart.remove()\n",
    "                else:\n",
    "                    print(\"There are currently no items in your cart.\")\n",
    "            elif entry == \"show\":\n",
    "                if my_cart.item != {}:\n",
    "                    my_cart.show()\n",
    "                else:\n",
    "                    print(\"There are currently no items in your cart.\")\n",
    "            else:\n",
    "                print(\"Invalid option. Please try again.\")\n",
    "\n",
    "Main.run()"
   ]
  },
  {
   "cell_type": "markdown",
   "metadata": {},
   "source": [
    "### Exercise 2 - Write a Python class which has two methods get_String and print_String. get_String accept a string from the user and print_String print the string in upper case"
   ]
  },
  {
   "cell_type": "code",
   "execution_count": 1,
   "metadata": {},
   "outputs": [],
   "source": [
    "class Python():\n",
    "    \n",
    "    def __init__(self, string):\n",
    "        self.py_string = string\n",
    "        \n",
    "    def get_String(self):\n",
    "        entry = input(\"Enter your string here: \")\n",
    "        self.py_string = entry\n",
    "        \n",
    "    def print_String(self):\n",
    "        print(self.py_string.upper())\n",
    "    \n",
    "class Main():\n",
    "    def run():\n",
    "        user_string = Python(None) \n",
    "        print(\"\"\"\n",
    "        Options:\n",
    "        [1] get_String\n",
    "        [2] print_String\n",
    "        [3] Exit Program\n",
    "        \"\"\")\n",
    "        while True:\n",
    "            option = input(\"What would you like to do? \")\n",
    "            if option == '1':\n",
    "                user_string.get_String()\n",
    "            elif option == '2':\n",
    "                if user_string.py_string != None:\n",
    "                    user_string.print_String()   \n",
    "                else:\n",
    "                    print('No string has been saved yet.')\n",
    "            elif option == '3':\n",
    "                print(\"Thanks for stoppin' by!\")\n",
    "                break\n",
    "            else:\n",
    "                print('Invalid Input')"
   ]
  },
  {
   "cell_type": "code",
   "execution_count": 2,
   "metadata": {
    "scrolled": false
   },
   "outputs": [
    {
     "name": "stdout",
     "output_type": "stream",
     "text": [
      "Enter your string here: Hi Mom!\n"
     ]
    }
   ],
   "source": [
    "my_string = Python(None)\n",
    "my_string.get_String()"
   ]
  },
  {
   "cell_type": "code",
   "execution_count": 3,
   "metadata": {},
   "outputs": [
    {
     "name": "stdout",
     "output_type": "stream",
     "text": [
      "HI MOM!\n"
     ]
    }
   ],
   "source": [
    "my_string.print_String()"
   ]
  },
  {
   "cell_type": "code",
   "execution_count": 4,
   "metadata": {},
   "outputs": [
    {
     "name": "stdout",
     "output_type": "stream",
     "text": [
      "HELLO WORLD!\n"
     ]
    }
   ],
   "source": [
    "my_string = Python('Hello World!')\n",
    "my_string.print_String()"
   ]
  },
  {
   "cell_type": "code",
   "execution_count": null,
   "metadata": {},
   "outputs": [],
   "source": [
    "Main.run()"
   ]
  }
 ],
 "metadata": {
  "kernelspec": {
   "display_name": "Python 3 (ipykernel)",
   "language": "python",
   "name": "python3"
  },
  "language_info": {
   "codemirror_mode": {
    "name": "ipython",
    "version": 3
   },
   "file_extension": ".py",
   "mimetype": "text/x-python",
   "name": "python",
   "nbconvert_exporter": "python",
   "pygments_lexer": "ipython3",
   "version": "3.11.1"
  }
 },
 "nbformat": 4,
 "nbformat_minor": 2
}
